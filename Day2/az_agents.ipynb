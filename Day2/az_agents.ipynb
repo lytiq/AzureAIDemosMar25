{
 "cells": [
  {
   "cell_type": "code",
   "execution_count": null,
   "metadata": {},
   "outputs": [
    {
     "name": "stdout",
     "output_type": "stream",
     "text": [
      "Requirement already satisfied: azure-ai-projects in d:\\dev\\miniconda3\\envs\\dl\\lib\\site-packages (1.0.0b7)\n",
      "Requirement already satisfied: isodate>=0.6.1 in d:\\dev\\miniconda3\\envs\\dl\\lib\\site-packages (from azure-ai-projects) (0.6.1)\n",
      "Requirement already satisfied: azure-core>=1.30.0 in d:\\dev\\miniconda3\\envs\\dl\\lib\\site-packages (from azure-ai-projects) (1.31.0)\n",
      "Requirement already satisfied: typing-extensions>=4.12.2 in d:\\dev\\miniconda3\\envs\\dl\\lib\\site-packages (from azure-ai-projects) (4.12.2)\n",
      "Requirement already satisfied: requests>=2.21.0 in d:\\dev\\miniconda3\\envs\\dl\\lib\\site-packages (from azure-core>=1.30.0->azure-ai-projects) (2.28.1)\n",
      "Requirement already satisfied: six>=1.11.0 in d:\\dev\\miniconda3\\envs\\dl\\lib\\site-packages (from azure-core>=1.30.0->azure-ai-projects) (1.17.0)\n",
      "Requirement already satisfied: charset-normalizer<3,>=2 in d:\\dev\\miniconda3\\envs\\dl\\lib\\site-packages (from requests>=2.21.0->azure-core>=1.30.0->azure-ai-projects) (2.1.1)\n",
      "Requirement already satisfied: idna<4,>=2.5 in d:\\dev\\miniconda3\\envs\\dl\\lib\\site-packages (from requests>=2.21.0->azure-core>=1.30.0->azure-ai-projects) (3.10)\n",
      "Requirement already satisfied: urllib3<1.27,>=1.21.1 in d:\\dev\\miniconda3\\envs\\dl\\lib\\site-packages (from requests>=2.21.0->azure-core>=1.30.0->azure-ai-projects) (1.26.13)\n",
      "Requirement already satisfied: certifi>=2017.4.17 in d:\\dev\\miniconda3\\envs\\dl\\lib\\site-packages (from requests>=2.21.0->azure-core>=1.30.0->azure-ai-projects) (2024.6.2)\n",
      "Note: you may need to restart the kernel to use updated packages.\n"
     ]
    },
    {
     "name": "stderr",
     "output_type": "stream",
     "text": [
      "WARNING: Ignoring invalid distribution -umpy (d:\\dev\\miniconda3\\envs\\dl\\lib\\site-packages)\n",
      "WARNING: Ignoring invalid distribution -umpy (d:\\dev\\miniconda3\\envs\\dl\\lib\\site-packages)\n",
      "WARNING: Ignoring invalid distribution -umpy (d:\\dev\\miniconda3\\envs\\dl\\lib\\site-packages)\n"
     ]
    },
    {
     "name": "stdout",
     "output_type": "stream",
     "text": [
      "Requirement already satisfied: azure-core in d:\\dev\\miniconda3\\envs\\dl\\lib\\site-packages (1.31.0)\n",
      "Requirement already satisfied: requests>=2.21.0 in d:\\dev\\miniconda3\\envs\\dl\\lib\\site-packages (from azure-core) (2.28.1)\n",
      "Requirement already satisfied: six>=1.11.0 in d:\\dev\\miniconda3\\envs\\dl\\lib\\site-packages (from azure-core) (1.17.0)\n",
      "Requirement already satisfied: typing-extensions>=4.6.0 in d:\\dev\\miniconda3\\envs\\dl\\lib\\site-packages (from azure-core) (4.12.2)\n",
      "Requirement already satisfied: charset-normalizer<3,>=2 in d:\\dev\\miniconda3\\envs\\dl\\lib\\site-packages (from requests>=2.21.0->azure-core) (2.1.1)\n",
      "Requirement already satisfied: idna<4,>=2.5 in d:\\dev\\miniconda3\\envs\\dl\\lib\\site-packages (from requests>=2.21.0->azure-core) (3.10)\n",
      "Requirement already satisfied: urllib3<1.27,>=1.21.1 in d:\\dev\\miniconda3\\envs\\dl\\lib\\site-packages (from requests>=2.21.0->azure-core) (1.26.13)\n",
      "Requirement already satisfied: certifi>=2017.4.17 in d:\\dev\\miniconda3\\envs\\dl\\lib\\site-packages (from requests>=2.21.0->azure-core) (2024.6.2)\n",
      "Note: you may need to restart the kernel to use updated packages.\n"
     ]
    },
    {
     "name": "stderr",
     "output_type": "stream",
     "text": [
      "WARNING: Ignoring invalid distribution -umpy (d:\\dev\\miniconda3\\envs\\dl\\lib\\site-packages)\n",
      "WARNING: Ignoring invalid distribution -umpy (d:\\dev\\miniconda3\\envs\\dl\\lib\\site-packages)\n",
      "WARNING: Ignoring invalid distribution -umpy (d:\\dev\\miniconda3\\envs\\dl\\lib\\site-packages)\n"
     ]
    }
   ],
   "source": [
    "%pip install azure-ai-projects\n",
    "%pip install azure-core azure-identity\n",
    "%pip install yfinance\n",
    "%pip install opentelemetry opentelemetry-sdk azure-core-tracing-opentelemetry"
   ]
  },
  {
   "cell_type": "code",
   "execution_count": 1,
   "metadata": {},
   "outputs": [],
   "source": [
    "import os\n",
    "from azure.ai.projects import AIProjectClient\n",
    "from azure.identity import DefaultAzureCredential\n",
    "from azure.ai.projects.models import FunctionTool, ToolSet\n",
    "\n",
    "\n",
    "# Create an Azure AI Client from a connection string, copied from your Azure AI Foundry project.\n",
    "# It should be in the format \"<HostName>;<AzureSubscriptionId>;<ResourceGroup>;<HubName>\"\n",
    "# Customers need to login to Azure subscription via Azure CLI and set the environment variables\n",
    "\n",
    "project_client = AIProjectClient.from_connection_string(\n",
    "    credential=DefaultAzureCredential(),\n",
    "    conn_str=os.getenv(\"AZAI_PROJECT_CONNECTION_STRING\"),\n",
    ")"
   ]
  },
  {
   "cell_type": "code",
   "execution_count": 2,
   "metadata": {},
   "outputs": [],
   "source": [
    "from opentelemetry import trace\n",
    "from azure.monitor.opentelemetry import configure_azure_monitor\n",
    "\n",
    "# Enable Azure Monitor tracing\n",
    "application_insights_connection_string = project_client.telemetry.get_connection_string()\n",
    "if not application_insights_connection_string:\n",
    "    print(\"Application Insights was not enabled for this project.\")\n",
    "    print(\"Enable it via the 'Tracing' tab in your AI Foundry project page.\")\n",
    "    exit()\n",
    "configure_azure_monitor(connection_string=application_insights_connection_string)\n",
    "\n",
    "scenario = \"WorkshopExercises\"\n",
    "tracer = trace.get_tracer(__name__)"
   ]
  },
  {
   "cell_type": "code",
   "execution_count": 3,
   "metadata": {},
   "outputs": [
    {
     "name": "stdout",
     "output_type": "stream",
     "text": [
      "Created agent, ID: asst_UzMhF3KcM7ksgQCUM5JKyzdL\n"
     ]
    }
   ],
   "source": [
    "from agent_tools import user_functions\n",
    "# Initialize agent toolset with user functions\n",
    "functions = FunctionTool(user_functions)\n",
    "toolset = ToolSet()\n",
    "toolset.add(functions)\n",
    "\n",
    "agent = project_client.agents.create_agent(\n",
    "    model=\"gpt-4o-2\", name=\"Finance Bot\", \n",
    "    instructions=\"You are a stock trading assistant. You can help users with stock trading and financial analysis.\", \n",
    "    toolset=toolset,\n",
    ")\n",
    "print(f\"Created agent, ID: {agent.id}\")"
   ]
  },
  {
   "cell_type": "code",
   "execution_count": 4,
   "metadata": {},
   "outputs": [
    {
     "name": "stdout",
     "output_type": "stream",
     "text": [
      "Created thread, ID: thread_jNQGOl1ElbhIaIBvv3Mpk7mB\n"
     ]
    }
   ],
   "source": [
    "# Create thread for communication\n",
    "thread = project_client.agents.create_thread()\n",
    "print(f\"Created thread, ID: {thread.id}\")"
   ]
  },
  {
   "cell_type": "code",
   "execution_count": 5,
   "metadata": {},
   "outputs": [],
   "source": [
    "@tracer.start_as_current_span(name=\"run_query\")\n",
    "def run(query):\n",
    "    with tracer.start_as_current_span(\"run_query\") as span:\n",
    "        span.set_attribute(\"input.query\", query)\n",
    "\n",
    "        # Create message to thread\n",
    "        message = project_client.agents.create_message(\n",
    "            thread_id=thread.id,\n",
    "            role=\"user\",\n",
    "            content=query\n",
    "        )\n",
    "        print(f\"Created message, ID: {message.id}\")\n",
    "\n",
    "        # Create and process agent run in thread with tools\n",
    "        run = project_client.agents.create_and_process_run(thread_id=thread.id, agent_id=agent.id)\n",
    "        print(f\"Run finished with status: {run.status}\")\n",
    "\n",
    "        if run.status == \"failed\":\n",
    "            print(f\"Run failed: {run.last_error}\")\n",
    "\n",
    "        # Fetch and log all messages\n",
    "        messages = project_client.agents.list_messages(thread_id=thread.id)\n",
    "        result = messages.data[0]['content'][0].text.value\n",
    "        print(f\"Messages: {result}\")\n",
    "\n",
    "        span.set_attribute(\"output.result\", result)\n",
    "        return result"
   ]
  },
  {
   "cell_type": "code",
   "execution_count": 6,
   "metadata": {},
   "outputs": [
    {
     "name": "stdout",
     "output_type": "stream",
     "text": [
      "Created message, ID: msg_5T0xfVECT0LYiNnpviaIBMvn\n",
      "Run finished with status: completed\n",
      "Messages: Here are the current stock prices of the top 10 tech companies:\n",
      "\n",
      "1. **Apple (AAPL)**: $223.85\n",
      "2. **Microsoft (MSFT)**: $390.58\n",
      "3. **Alphabet (GOOGL)**: $162.24\n",
      "4. **Amazon (AMZN)**: $201.36\n",
      "5. **Meta Platforms (META)**: $602.58\n",
      "6. **Tesla (TSLA)**: $273.13\n",
      "7. **NVIDIA (NVDA)**: $111.43\n",
      "8. **Oracle (ORCL)**: $145.78\n",
      "9. **IBM (IBM)**: $246.21\n",
      "10. **Adobe (ADBE)**: $396.15\n"
     ]
    }
   ],
   "source": [
    "output = run(\"What is the current stock price of Top 10 Tech companies?\")"
   ]
  },
  {
   "cell_type": "code",
   "execution_count": 7,
   "metadata": {},
   "outputs": [
    {
     "name": "stdout",
     "output_type": "stream",
     "text": [
      "Deleted agent\n"
     ]
    }
   ],
   "source": [
    "# Delete the agent when done\n",
    "project_client.agents.delete_agent(agent.id)\n",
    "print(\"Deleted agent\")\n"
   ]
  },
  {
   "cell_type": "code",
   "execution_count": 5,
   "metadata": {},
   "outputs": [
    {
     "data": {
      "text/plain": [
       "'{\"stock_price\": 534.52}'"
      ]
     },
     "execution_count": 5,
     "metadata": {},
     "output_type": "execute_result"
    }
   ],
   "source": [
    "get_stock_price(\"BRK-B\")"
   ]
  },
  {
   "cell_type": "code",
   "execution_count": null,
   "metadata": {},
   "outputs": [],
   "source": []
  }
 ],
 "metadata": {
  "kernelspec": {
   "display_name": "dl",
   "language": "python",
   "name": "dl"
  },
  "language_info": {
   "codemirror_mode": {
    "name": "ipython",
    "version": 3
   },
   "file_extension": ".py",
   "mimetype": "text/x-python",
   "name": "python",
   "nbconvert_exporter": "python",
   "pygments_lexer": "ipython3",
   "version": "3.10.11"
  }
 },
 "nbformat": 4,
 "nbformat_minor": 2
}
