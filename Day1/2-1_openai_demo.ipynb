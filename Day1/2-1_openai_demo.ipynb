{
 "cells": [
  {
   "cell_type": "code",
   "execution_count": null,
   "metadata": {},
   "outputs": [],
   "source": [
    "%pip install openai"
   ]
  },
  {
   "cell_type": "code",
   "execution_count": null,
   "metadata": {},
   "outputs": [],
   "source": [
    "# %%writefile -a ./.env\n",
    "\n",
    "# AZURE_OPENAI_API_KEY=\n",
    "# AZURE_OPENAI_ENDPOINT="
   ]
  },
  {
   "cell_type": "code",
   "execution_count": 9,
   "metadata": {},
   "outputs": [
    {
     "name": "stdout",
     "output_type": "stream",
     "text": [
      "This image depicts a famous artwork, \"The Last Supper\" by Leonardo da Vinci. It portrays a group of individuals seated at a long table, engaged in expressive and dramatic gestures. The figures are interacting with one another, and their movements suggest conversation and emotional reactions. The setting appears to be indoors, with a simple architectural background and a view of the landscape through windows. On the table are plates, cups, and food items. This scene represents a significant moment, likely the announcement of betrayal made by the central figure.\n"
     ]
    }
   ],
   "source": [
    "import os\n",
    "from openai import AzureOpenAI\n",
    "import base64\n",
    "from dotenv import load_dotenv\n",
    "load_dotenv()\n",
    "\n",
    "# Initialize Azure OpenAI client\n",
    "client = AzureOpenAI(\n",
    "    api_key=os.getenv(\"AZURE_OPENAI_API_KEY\"),\n",
    "    api_version=\"2024-05-01-preview\",\n",
    "    azure_endpoint=os.getenv(\"AZURE_OPENAI_ENDPOINT\")\n",
    ")\n",
    "\n",
    "# Function to encode image to base64\n",
    "def encode_image(image_path):\n",
    "    with open(image_path, \"rb\") as image_file:\n",
    "        return base64.b64encode(image_file.read()).decode('utf-8')\n",
    "\n",
    "# Path to your image\n",
    "image_path = \"OpenAI_demo_files/the_last_supper.jpeg\"\n",
    "base64_image = encode_image(image_path)\n",
    "\n",
    "# Create the message with both text and image\n",
    "messages = [\n",
    "    {\n",
    "        \"role\": \"user\",\n",
    "        \"content\": [\n",
    "            {\n",
    "                \"type\": \"text\",\n",
    "                \"text\": \"What can you see in this image? If there are any people, what are they doing?\"\n",
    "            },\n",
    "            {\n",
    "                \"type\": \"image_url\",\n",
    "                \"image_url\": {\n",
    "                    \"url\": f\"data:image/jpeg;base64,{base64_image}\"\n",
    "                }\n",
    "            }\n",
    "        ]\n",
    "    }\n",
    "]\n",
    "\n",
    "# Send request to GPT-4V\n",
    "response = client.chat.completions.create(\n",
    "    model=\"gpt-4o\", \n",
    "    messages=messages,\n",
    "    max_tokens=300\n",
    ")\n",
    "\n",
    "# Print the response\n",
    "print(response.choices[0].message.content)"
   ]
  },
  {
   "cell_type": "code",
   "execution_count": 11,
   "metadata": {},
   "outputs": [
    {
     "name": "stdout",
     "output_type": "stream",
     "text": [
      "### Extracted Fields from the Image:\n",
      "\n",
      "#### 1. **Workshop Pass Giveaway**\n",
      "\n",
      "---\n",
      "\n",
      "### **Participant Details**\n",
      "1. **First Name:** Henry  \n",
      "2. **Last Name:** Turner  \n",
      "3. **Mobile Nr.:** (555) 529-3748  \n",
      "4. **Already Subscribed?** ✔  \n",
      "5. **Email:** henry.turner@example.com  \n",
      "6. **Join the special session on Distributed Training as well?** ✔  \n",
      "\n",
      "---\n",
      "\n",
      "### **Refer a Friend**\n",
      "1. **First Name:** John  \n",
      "2. **Last Name:** Snow  \n",
      "3. **Mobile Nr.:** (555) 264-1231  \n",
      "4. **Email:** johnsparrow@example.net  \n",
      "\n",
      "---\n",
      "\n",
      "**Footer:** Double click in Footer to put School Name here and update logo  \n",
      "\n",
      "**Logo:** Contoso  \n"
     ]
    }
   ],
   "source": [
    "doc_image = \"AzDI_sample_dataset/doc9_page-0001.jpg\"\n",
    "# Path to your image\n",
    "base64_image = encode_image(doc_image)\n",
    "\n",
    "# Create the message with both text and image\n",
    "messages = [\n",
    "    {\n",
    "        \"role\": \"user\",\n",
    "        \"content\": [\n",
    "            {\n",
    "                \"type\": \"text\",\n",
    "                \"text\": \"Extract all fields in the image\"\n",
    "            },\n",
    "            {\n",
    "                \"type\": \"image_url\",\n",
    "                \"image_url\": {\n",
    "                    \"url\": f\"data:image/jpeg;base64,{base64_image}\"\n",
    "                }\n",
    "            }\n",
    "        ]\n",
    "    }\n",
    "]\n",
    "\n",
    "# Send request to GPT-4V\n",
    "response = client.chat.completions.create(\n",
    "    model=\"gpt-4o\", \n",
    "    messages=messages,\n",
    "    max_tokens=300\n",
    ")\n",
    "\n",
    "# Print the response\n",
    "print(response.choices[0].message.content)\n"
   ]
  },
  {
   "cell_type": "code",
   "execution_count": null,
   "metadata": {},
   "outputs": [],
   "source": []
  }
 ],
 "metadata": {
  "kernelspec": {
   "display_name": "dl",
   "language": "python",
   "name": "dl"
  },
  "language_info": {
   "codemirror_mode": {
    "name": "ipython",
    "version": 3
   },
   "file_extension": ".py",
   "mimetype": "text/x-python",
   "name": "python",
   "nbconvert_exporter": "python",
   "pygments_lexer": "ipython3",
   "version": "3.10.11"
  }
 },
 "nbformat": 4,
 "nbformat_minor": 2
}
